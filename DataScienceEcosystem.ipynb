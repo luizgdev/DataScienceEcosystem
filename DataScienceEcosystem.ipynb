{
 "cells": [
  {
   "cell_type": "markdown",
   "id": "09e70c96-51a0-4e91-84ed-b3771f950e80",
   "metadata": {},
   "source": [
    "# Data Science Tools and Ecosystem"
   ]
  },
  {
   "cell_type": "markdown",
   "id": "abe451de-978a-4ae8-9e12-6b5c2c6efa42",
   "metadata": {},
   "source": [
    "## Author \n",
    "Luiz Gustavo da Costa Gonçalves"
   ]
  },
  {
   "cell_type": "markdown",
   "id": "10475ff5-a7e0-4d63-9302-53401a6c8c01",
   "metadata": {},
   "source": [
    "In this notebook, Data Science Tools and Ecosystem are summarized."
   ]
  },
  {
   "cell_type": "markdown",
   "id": "5a46cbbb-157d-4516-9e84-084fbce09f15",
   "metadata": {},
   "source": [
    "Objectives:\n",
    "\n",
    "To list\n",
    "- Popular languages for data science\n",
    "- Common data science libraries\n",
    "- Some data science tools"
   ]
  },
  {
   "cell_type": "markdown",
   "id": "bcf01dc4-148d-429d-941c-362dbfa42cf7",
   "metadata": {},
   "source": [
    "Some of the popular languages that Data Scientists use are:\n",
    "\n",
    "1. Python\n",
    "2. SQL\n",
    "3. R"
   ]
  },
  {
   "cell_type": "markdown",
   "id": "f14fc9b2-a256-48b5-a966-6c3a7b500ba1",
   "metadata": {},
   "source": [
    "Some of the commonly used libraries used by Data Scientists include:\n",
    "\n",
    "1. Matplotlib\n",
    "2. Pandas\n",
    "3. TensorFlow"
   ]
  },
  {
   "cell_type": "markdown",
   "id": "30aeaef9-9125-4a86-a7f1-44eba627ab82",
   "metadata": {},
   "source": [
    "|Data Science Tools|\n",
    "|--------------------|\n",
    "|Python|\n",
    "|Jupyter Notebook|\n",
    "|Tableau|"
   ]
  },
  {
   "cell_type": "markdown",
   "id": "9c46d0e2-085a-45a8-8ec6-92db7101b020",
   "metadata": {},
   "source": [
    "### Below are a few examples of evaluating arithmetic expressions in Python"
   ]
  },
  {
   "cell_type": "code",
   "execution_count": 5,
   "id": "b0619c9a-867a-4295-8f33-0fced18af721",
   "metadata": {},
   "outputs": [
    {
     "data": {
      "text/plain": [
       "3.3333333333333335"
      ]
     },
     "execution_count": 5,
     "metadata": {},
     "output_type": "execute_result"
    }
   ],
   "source": [
    "# This will convert 200 minutes to hours by diving by 60\n",
    "hours = 200 / 60\n",
    "hours"
   ]
  }
 ],
 "metadata": {
  "kernelspec": {
   "display_name": "Python 3 (ipykernel)",
   "language": "python",
   "name": "python3"
  },
  "language_info": {
   "codemirror_mode": {
    "name": "ipython",
    "version": 3
   },
   "file_extension": ".py",
   "mimetype": "text/x-python",
   "name": "python",
   "nbconvert_exporter": "python",
   "pygments_lexer": "ipython3",
   "version": "3.13.1"
  }
 },
 "nbformat": 4,
 "nbformat_minor": 5
}
